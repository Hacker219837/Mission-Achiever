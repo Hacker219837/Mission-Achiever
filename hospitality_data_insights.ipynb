{
 "cells": [
  {
   "cell_type": "code",
   "execution_count": 1,
   "metadata": {},
   "outputs": [],
   "source": [
    "# Import necessary libraries\n",
    "import numpy as np\n",
    "import pandas as pd\n",
    "from sklearn.model_selection import train_test_split\n",
    "from sklearn.naive_bayes import MultinomialNB\n",
    "from sklearn.metrics import accuracy_score, confusion_matrix\n",
    "import seaborn as sns\n",
    "import matplotlib.pyplot as plt"
   ]
  },
  {
   "cell_type": "markdown",
   "metadata": {},
   "source": [
    "Step 2: Loading the data"
   ]
  },
  {
   "cell_type": "code",
   "execution_count": 2,
   "metadata": {},
   "outputs": [],
   "source": [
    "\n",
    "data = pd.read_csv(r'D:\\BA prac\\HospitalityProject\\guest_interactions.csv')"
   ]
  },
  {
   "cell_type": "markdown",
   "metadata": {},
   "source": [
    " Display the first few rows"
   ]
  },
  {
   "cell_type": "code",
   "execution_count": 3,
   "metadata": {},
   "outputs": [
    {
     "name": "stdout",
     "output_type": "stream",
     "text": [
      "First few rows of the dataset:\n"
     ]
    },
    {
     "data": {
      "text/html": [
       "<div>\n",
       "<style scoped>\n",
       "    .dataframe tbody tr th:only-of-type {\n",
       "        vertical-align: middle;\n",
       "    }\n",
       "\n",
       "    .dataframe tbody tr th {\n",
       "        vertical-align: top;\n",
       "    }\n",
       "\n",
       "    .dataframe thead th {\n",
       "        text-align: right;\n",
       "    }\n",
       "</style>\n",
       "<table border=\"1\" class=\"dataframe\">\n",
       "  <thead>\n",
       "    <tr style=\"text-align: right;\">\n",
       "      <th></th>\n",
       "      <th>Guest_ID</th>\n",
       "      <th>Interaction_Type</th>\n",
       "      <th>Interaction_Time</th>\n",
       "      <th>Feedback_Score</th>\n",
       "      <th>Room_Number</th>\n",
       "    </tr>\n",
       "  </thead>\n",
       "  <tbody>\n",
       "    <tr>\n",
       "      <th>0</th>\n",
       "      <td>1</td>\n",
       "      <td>Room Service</td>\n",
       "      <td>2024-10-01 10:30:00</td>\n",
       "      <td>4</td>\n",
       "      <td>101</td>\n",
       "    </tr>\n",
       "    <tr>\n",
       "      <th>1</th>\n",
       "      <td>2</td>\n",
       "      <td>Concierge Request</td>\n",
       "      <td>2024-10-01 11:15:00</td>\n",
       "      <td>5</td>\n",
       "      <td>102</td>\n",
       "    </tr>\n",
       "    <tr>\n",
       "      <th>2</th>\n",
       "      <td>3</td>\n",
       "      <td>Spa Booking</td>\n",
       "      <td>2024-10-01 12:00:00</td>\n",
       "      <td>3</td>\n",
       "      <td>103</td>\n",
       "    </tr>\n",
       "    <tr>\n",
       "      <th>3</th>\n",
       "      <td>4</td>\n",
       "      <td>Restaurant Reservation</td>\n",
       "      <td>2024-10-01 13:45:00</td>\n",
       "      <td>5</td>\n",
       "      <td>104</td>\n",
       "    </tr>\n",
       "    <tr>\n",
       "      <th>4</th>\n",
       "      <td>5</td>\n",
       "      <td>Room Cleaning</td>\n",
       "      <td>2024-10-01 15:00:00</td>\n",
       "      <td>4</td>\n",
       "      <td>105</td>\n",
       "    </tr>\n",
       "  </tbody>\n",
       "</table>\n",
       "</div>"
      ],
      "text/plain": [
       "   Guest_ID        Interaction_Type     Interaction_Time  Feedback_Score  \\\n",
       "0         1            Room Service  2024-10-01 10:30:00               4   \n",
       "1         2       Concierge Request  2024-10-01 11:15:00               5   \n",
       "2         3             Spa Booking  2024-10-01 12:00:00               3   \n",
       "3         4  Restaurant Reservation  2024-10-01 13:45:00               5   \n",
       "4         5           Room Cleaning  2024-10-01 15:00:00               4   \n",
       "\n",
       "   Room_Number  \n",
       "0          101  \n",
       "1          102  \n",
       "2          103  \n",
       "3          104  \n",
       "4          105  "
      ]
     },
     "metadata": {},
     "output_type": "display_data"
    }
   ],
   "source": [
    "print(\"First few rows of the dataset:\")\n",
    "display(data.head())"
   ]
  },
  {
   "cell_type": "markdown",
   "metadata": {},
   "source": [
    "Data Exploration and Statistics -> Checking for missing values"
   ]
  },
  {
   "cell_type": "code",
   "execution_count": 4,
   "metadata": {},
   "outputs": [
    {
     "name": "stdout",
     "output_type": "stream",
     "text": [
      "\n",
      "Missing values in each column:\n",
      "Guest_ID            0\n",
      "Interaction_Type    0\n",
      "Interaction_Time    0\n",
      "Feedback_Score      0\n",
      "Room_Number         0\n",
      "dtype: int64\n"
     ]
    }
   ],
   "source": [
    "print(\"\\nMissing values in each column:\")\n",
    "print(data.isnull().sum())"
   ]
  },
  {
   "cell_type": "markdown",
   "metadata": {},
   "source": [
    " Summary statistics of numerical columns"
   ]
  },
  {
   "cell_type": "code",
   "execution_count": 5,
   "metadata": {},
   "outputs": [
    {
     "name": "stdout",
     "output_type": "stream",
     "text": [
      "\n",
      "Summary statistics for numerical columns:\n"
     ]
    },
    {
     "data": {
      "text/html": [
       "<div>\n",
       "<style scoped>\n",
       "    .dataframe tbody tr th:only-of-type {\n",
       "        vertical-align: middle;\n",
       "    }\n",
       "\n",
       "    .dataframe tbody tr th {\n",
       "        vertical-align: top;\n",
       "    }\n",
       "\n",
       "    .dataframe thead th {\n",
       "        text-align: right;\n",
       "    }\n",
       "</style>\n",
       "<table border=\"1\" class=\"dataframe\">\n",
       "  <thead>\n",
       "    <tr style=\"text-align: right;\">\n",
       "      <th></th>\n",
       "      <th>Guest_ID</th>\n",
       "      <th>Feedback_Score</th>\n",
       "      <th>Room_Number</th>\n",
       "    </tr>\n",
       "  </thead>\n",
       "  <tbody>\n",
       "    <tr>\n",
       "      <th>count</th>\n",
       "      <td>5.000000</td>\n",
       "      <td>5.00000</td>\n",
       "      <td>5.000000</td>\n",
       "    </tr>\n",
       "    <tr>\n",
       "      <th>mean</th>\n",
       "      <td>3.000000</td>\n",
       "      <td>4.20000</td>\n",
       "      <td>103.000000</td>\n",
       "    </tr>\n",
       "    <tr>\n",
       "      <th>std</th>\n",
       "      <td>1.581139</td>\n",
       "      <td>0.83666</td>\n",
       "      <td>1.581139</td>\n",
       "    </tr>\n",
       "    <tr>\n",
       "      <th>min</th>\n",
       "      <td>1.000000</td>\n",
       "      <td>3.00000</td>\n",
       "      <td>101.000000</td>\n",
       "    </tr>\n",
       "    <tr>\n",
       "      <th>25%</th>\n",
       "      <td>2.000000</td>\n",
       "      <td>4.00000</td>\n",
       "      <td>102.000000</td>\n",
       "    </tr>\n",
       "    <tr>\n",
       "      <th>50%</th>\n",
       "      <td>3.000000</td>\n",
       "      <td>4.00000</td>\n",
       "      <td>103.000000</td>\n",
       "    </tr>\n",
       "    <tr>\n",
       "      <th>75%</th>\n",
       "      <td>4.000000</td>\n",
       "      <td>5.00000</td>\n",
       "      <td>104.000000</td>\n",
       "    </tr>\n",
       "    <tr>\n",
       "      <th>max</th>\n",
       "      <td>5.000000</td>\n",
       "      <td>5.00000</td>\n",
       "      <td>105.000000</td>\n",
       "    </tr>\n",
       "  </tbody>\n",
       "</table>\n",
       "</div>"
      ],
      "text/plain": [
       "       Guest_ID  Feedback_Score  Room_Number\n",
       "count  5.000000         5.00000     5.000000\n",
       "mean   3.000000         4.20000   103.000000\n",
       "std    1.581139         0.83666     1.581139\n",
       "min    1.000000         3.00000   101.000000\n",
       "25%    2.000000         4.00000   102.000000\n",
       "50%    3.000000         4.00000   103.000000\n",
       "75%    4.000000         5.00000   104.000000\n",
       "max    5.000000         5.00000   105.000000"
      ]
     },
     "metadata": {},
     "output_type": "display_data"
    }
   ],
   "source": [
    "print(\"\\nSummary statistics for numerical columns:\")\n",
    "display(data.describe())"
   ]
  },
  {
   "cell_type": "markdown",
   "metadata": {},
   "source": [
    "Step 4: Data Preprocessing -> converting Feedback_Score to numeric format"
   ]
  },
  {
   "cell_type": "code",
   "execution_count": 6,
   "metadata": {},
   "outputs": [],
   "source": [
    "\n",
    "data['Feedback_Score'] = pd.to_numeric(data['Feedback_Score'], errors='coerce')"
   ]
  },
  {
   "cell_type": "code",
   "execution_count": 7,
   "metadata": {},
   "outputs": [],
   "source": [
    "# Split your dataset into features and target variable\n",
    "X = data['Guest_ID']  \n",
    "y = data['Feedback_Score']     \n",
    "\n",
    "# Split the data into training and testing sets\n",
    "X_train, X_test, y_train, y_test = train_test_split(X, y, test_size=0.2, random_state=42)"
   ]
  },
  {
   "cell_type": "markdown",
   "metadata": {},
   "source": [
    "Sentiment Analysis Categorization -> Defining conditions for sentiment categories based on Feedback_Score"
   ]
  },
  {
   "cell_type": "markdown",
   "metadata": {},
   "source": [
    "Step 5: Assuming 'Feedback_Score' as a measure of satisfaction"
   ]
  },
  {
   "cell_type": "code",
   "execution_count": 8,
   "metadata": {},
   "outputs": [],
   "source": [
    "conditions = [\n",
    "    (data['Feedback_Score'] >= 4),\n",
    "    (data['Feedback_Score'] >= 2) & (data['Feedback_Score'] < 4),\n",
    "    (data['Feedback_Score'] < 2)\n",
    "]\n",
    "choices = ['positive', 'neutral', 'negative']"
   ]
  },
  {
   "cell_type": "markdown",
   "metadata": {},
   "source": [
    "Create a new column 'Sentiment' based on these conditions."
   ]
  },
  {
   "cell_type": "code",
   "execution_count": 9,
   "metadata": {},
   "outputs": [],
   "source": [
    "data['Sentiment'] = np.select(conditions, choices)"
   ]
  },
  {
   "cell_type": "markdown",
   "metadata": {},
   "source": [
    "Display the updated data with 'Sentiment' column."
   ]
  },
  {
   "cell_type": "code",
   "execution_count": 10,
   "metadata": {},
   "outputs": [
    {
     "name": "stdout",
     "output_type": "stream",
     "text": [
      "\n",
      "Dataset with 'Sentiment' category added:\n"
     ]
    },
    {
     "data": {
      "text/html": [
       "<div>\n",
       "<style scoped>\n",
       "    .dataframe tbody tr th:only-of-type {\n",
       "        vertical-align: middle;\n",
       "    }\n",
       "\n",
       "    .dataframe tbody tr th {\n",
       "        vertical-align: top;\n",
       "    }\n",
       "\n",
       "    .dataframe thead th {\n",
       "        text-align: right;\n",
       "    }\n",
       "</style>\n",
       "<table border=\"1\" class=\"dataframe\">\n",
       "  <thead>\n",
       "    <tr style=\"text-align: right;\">\n",
       "      <th></th>\n",
       "      <th>Guest_ID</th>\n",
       "      <th>Interaction_Type</th>\n",
       "      <th>Interaction_Time</th>\n",
       "      <th>Feedback_Score</th>\n",
       "      <th>Room_Number</th>\n",
       "      <th>Sentiment</th>\n",
       "    </tr>\n",
       "  </thead>\n",
       "  <tbody>\n",
       "    <tr>\n",
       "      <th>0</th>\n",
       "      <td>1</td>\n",
       "      <td>Room Service</td>\n",
       "      <td>2024-10-01 10:30:00</td>\n",
       "      <td>4</td>\n",
       "      <td>101</td>\n",
       "      <td>positive</td>\n",
       "    </tr>\n",
       "    <tr>\n",
       "      <th>1</th>\n",
       "      <td>2</td>\n",
       "      <td>Concierge Request</td>\n",
       "      <td>2024-10-01 11:15:00</td>\n",
       "      <td>5</td>\n",
       "      <td>102</td>\n",
       "      <td>positive</td>\n",
       "    </tr>\n",
       "    <tr>\n",
       "      <th>2</th>\n",
       "      <td>3</td>\n",
       "      <td>Spa Booking</td>\n",
       "      <td>2024-10-01 12:00:00</td>\n",
       "      <td>3</td>\n",
       "      <td>103</td>\n",
       "      <td>neutral</td>\n",
       "    </tr>\n",
       "    <tr>\n",
       "      <th>3</th>\n",
       "      <td>4</td>\n",
       "      <td>Restaurant Reservation</td>\n",
       "      <td>2024-10-01 13:45:00</td>\n",
       "      <td>5</td>\n",
       "      <td>104</td>\n",
       "      <td>positive</td>\n",
       "    </tr>\n",
       "    <tr>\n",
       "      <th>4</th>\n",
       "      <td>5</td>\n",
       "      <td>Room Cleaning</td>\n",
       "      <td>2024-10-01 15:00:00</td>\n",
       "      <td>4</td>\n",
       "      <td>105</td>\n",
       "      <td>positive</td>\n",
       "    </tr>\n",
       "  </tbody>\n",
       "</table>\n",
       "</div>"
      ],
      "text/plain": [
       "   Guest_ID        Interaction_Type     Interaction_Time  Feedback_Score  \\\n",
       "0         1            Room Service  2024-10-01 10:30:00               4   \n",
       "1         2       Concierge Request  2024-10-01 11:15:00               5   \n",
       "2         3             Spa Booking  2024-10-01 12:00:00               3   \n",
       "3         4  Restaurant Reservation  2024-10-01 13:45:00               5   \n",
       "4         5           Room Cleaning  2024-10-01 15:00:00               4   \n",
       "\n",
       "   Room_Number Sentiment  \n",
       "0          101  positive  \n",
       "1          102  positive  \n",
       "2          103   neutral  \n",
       "3          104  positive  \n",
       "4          105  positive  "
      ]
     },
     "metadata": {},
     "output_type": "display_data"
    }
   ],
   "source": [
    "\n",
    "print(\"\\nDataset with 'Sentiment' category added:\")\n",
    "display(data.head())"
   ]
  },
  {
   "cell_type": "markdown",
   "metadata": {},
   "source": [
    " Visualization of Sentiment Distribution"
   ]
  },
  {
   "cell_type": "code",
   "execution_count": 11,
   "metadata": {},
   "outputs": [
    {
     "name": "stderr",
     "output_type": "stream",
     "text": [
      "C:\\Users\\Uncle B\\AppData\\Local\\Temp\\ipykernel_20728\\1151816704.py:2: FutureWarning: \n",
      "\n",
      "Passing `palette` without assigning `hue` is deprecated and will be removed in v0.14.0. Assign the `x` variable to `hue` and set `legend=False` for the same effect.\n",
      "\n",
      "  sns.countplot(data=data, x='Sentiment', palette='cividis')\n"
     ]
    },
    {
     "data": {
      "image/png": "[encoded data removed]",
      "text/plain": [
       "<Figure size 600x600 with 1 Axes>"
      ]
     },
     "metadata": {},
     "output_type": "display_data"
    }
   ],
   "source": [
    "\n",
    "plt.figure(figsize=(6, 6))\n",
    "sns.countplot(data=data, x='Sentiment', palette='cividis')\n",
    "plt.title('Sentiment Distribution')\n",
    "plt.xlabel('Sentiment')\n",
    "plt.ylabel('Count')\n",
    "plt.show()"
   ]
  },
  {
   "cell_type": "markdown",
   "metadata": {},
   "source": [
    "Step 7: Visualizing Feedback Score Distribution per Interaction Type"
   ]
  },
  {
   "cell_type": "code",
   "execution_count": 17,
   "metadata": {},
   "outputs": [
    {
     "name": "stderr",
     "output_type": "stream",
     "text": [
      "C:\\Users\\Uncle B\\AppData\\Local\\Temp\\ipykernel_20728\\3421584439.py:3: FutureWarning: \n",
      "\n",
      "Passing `palette` without assigning `hue` is deprecated and will be removed in v0.14.0. Assign the `x` variable to `hue` and set `legend=False` for the same effect.\n",
      "\n",
      "  sns.boxplot(data=data, x='Interaction_Type', y='Feedback_Score', palette=custom_palette)\n",
      "C:\\Users\\Uncle B\\AppData\\Local\\Temp\\ipykernel_20728\\3421584439.py:3: UserWarning: \n",
      "The palette list has fewer values (3) than needed (5) and will cycle, which may produce an uninterpretable plot.\n",
      "  sns.boxplot(data=data, x='Interaction_Type', y='Feedback_Score', palette=custom_palette)\n"
     ]
    },
    {
     "data": {
      "image/png": "[encoded data removed]",
      "text/plain": [
       "<Figure size 500x400 with 1 Axes>"
      ]
     },
     "metadata": {},
     "output_type": "display_data"
    }
   ],
   "source": [
    "plt.figure(figsize=(5, 4))\n",
    "custom_palette = ['#FF5733', '#33FF57', '#3357FF']\n",
    "sns.boxplot(data=data, x='Interaction_Type', y='Feedback_Score', palette=custom_palette)\n",
    "plt.title('Feedback Score Distribution by Interaction Type')\n",
    "plt.xlabel('Interaction Type')\n",
    "plt.ylabel('Feedback Score')\n",
    "plt.xticks(rotation=45)  \n",
    "plt.tight_layout()\n",
    "plt.show()"
   ]
  },
  {
   "cell_type": "markdown",
   "metadata": {},
   "source": [
    "Step 8: Analyze Sample Text Data per Sentiment Categor"
   ]
  },
  {
   "cell_type": "code",
   "execution_count": 13,
   "metadata": {},
   "outputs": [
    {
     "name": "stdout",
     "output_type": "stream",
     "text": [
      "\n",
      "Sample of each sentiment type based on Feedback_Score categorization:\n",
      "Positive Reviews:\n",
      "['Restaurant Reservation' 'Room Cleaning' 'Concierge Request']\n",
      "\n",
      "Neutral Reviews:\n",
      "['Spa Booking' 'Spa Booking']\n",
      "No Negative Reviews available.\n"
     ]
    }
   ],
   "source": [
    "print(\"\\nSample of each sentiment type based on Feedback_Score categorization:\")\n",
    "\n",
    "# Positive Reviews\n",
    "if not data[data['Sentiment'] == 'positive'].empty:\n",
    "    print(\"Positive Reviews:\")\n",
    "    print(data[data['Sentiment'] == 'positive'].sample(3, replace=True)['Interaction_Type'].values)\n",
    "else:\n",
    "    print(\"No Positive Reviews available.\")\n",
    "\n",
    "# Neutral Reviews\n",
    "if not data[data['Sentiment'] == 'neutral'].empty:\n",
    "    print(\"\\nNeutral Reviews:\")\n",
    "    print(data[data['Sentiment'] == 'neutral'].sample(2, replace=True)['Interaction_Type'].values)\n",
    "else:\n",
    "    print(\"No Neutral Reviews available.\")\n",
    "\n",
    "# Negative Reviews\n",
    "if not data[data['Sentiment'] == 'negative'].empty:\n",
    "    print(\"\\nNegative Reviews:\")\n",
    "    print(data[data['Sentiment'] == 'negative'].sample(2, replace=True)['Interaction_Type'].values)\n",
    "else:\n",
    "    print(\"No Negative Reviews available.\")\n"
   ]
  },
  {
   "cell_type": "markdown",
   "metadata": {},
   "source": [
    "Step 9: Summary of Interaction Type Frequencies"
   ]
  },
  {
   "cell_type": "code",
   "execution_count": 14,
   "metadata": {},
   "outputs": [
    {
     "name": "stdout",
     "output_type": "stream",
     "text": [
      "\n",
      "Frequency of each Interaction Type:\n",
      "Interaction_Type\n",
      "Room Service              1\n",
      "Concierge Request         1\n",
      "Spa Booking               1\n",
      "Restaurant Reservation    1\n",
      "Room Cleaning             1\n",
      "Name: count, dtype: int64\n"
     ]
    }
   ],
   "source": [
    "interaction_type_counts = data['Interaction_Type'].value_counts()\n",
    "print(\"\\nFrequency of each Interaction Type:\")\n",
    "print(interaction_type_counts)"
   ]
  },
  {
   "cell_type": "markdown",
   "metadata": {},
   "source": [
    "Plot Interaction Type Frequencies"
   ]
  },
  {
   "cell_type": "code",
   "execution_count": 15,
   "metadata": {},
   "outputs": [
    {
     "data": {
      "image/png": "[encoded data removed]",
      "text/plain": [
       "<Figure size 800x600 with 1 Axes>"
      ]
     },
     "metadata": {},
     "output_type": "display_data"
    }
   ],
   "source": [
    "plt.figure(figsize=(8, 6))\n",
    "interaction_type_counts.plot(kind='pie', autopct='%1.1f%%', colors=sns.color_palette('Set2'), startangle=140)\n",
    "plt.ylabel('')\n",
    "plt.title('Interaction Type Proportion')\n",
    "plt.show()"
   ]
  },
  {
   "cell_type": "code",
   "execution_count": 16,
   "metadata": {},
   "outputs": [
    {
     "name": "stdout",
     "output_type": "stream",
     "text": [
      "\n",
      "Conclusion: This data is crucial for training AI models aimed at improving guest satisfaction \n",
      "and operational efficiency in the hospitality industry. Reviews, booking patterns, and \n",
      "satisfaction scores enable tailored services and proactive guest engagement.\n",
      "\n"
     ]
    }
   ],
   "source": [
    "conclusion = \"\"\"\n",
    "Conclusion: This data is crucial for training AI models aimed at improving guest satisfaction \n",
    "and operational efficiency in the hospitality industry. Reviews, booking patterns, and \n",
    "satisfaction scores enable tailored services and proactive guest engagement.\n",
    "\"\"\"\n",
    "print(conclusion)"
   ]
  }
 ],
 "metadata": {
  "kernelspec": {
   "display_name": "Python 3",
   "language": "python",
   "name": "python3"
  },
  "language_info": {
   "codemirror_mode": {
    "name": "ipython",
    "version": 3
   },
   "file_extension": ".py",
   "mimetype": "text/x-python",
   "name": "python",
   "nbconvert_exporter": "python",
   "pygments_lexer": "ipython3",
   "version": "3.12.5"
  }
 },
 "nbformat": 4,
 "nbformat_minor": 2
}
